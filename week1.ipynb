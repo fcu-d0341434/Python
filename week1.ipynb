{
 "cells": [
  {
   "cell_type": "markdown",
   "metadata": {},
   "source": [
    "# Python3"
   ]
  },
  {
   "cell_type": "code",
   "execution_count": 44,
   "metadata": {},
   "outputs": [
    {
     "name": "stdout",
     "output_type": "stream",
     "text": [
      "hello world\n"
     ]
    }
   ],
   "source": [
    "print(\"hello world\")"
   ]
  },
  {
   "cell_type": "markdown",
   "metadata": {},
   "source": [
    "# 變數"
   ]
  },
  {
   "cell_type": "code",
   "execution_count": 74,
   "metadata": {},
   "outputs": [
    {
     "name": "stdout",
     "output_type": "stream",
     "text": [
      "hello world\n"
     ]
    }
   ],
   "source": [
    "a = \"hello world\"\n",
    "\n",
    "print(a)"
   ]
  },
  {
   "cell_type": "code",
   "execution_count": 75,
   "metadata": {},
   "outputs": [
    {
     "name": "stdout",
     "output_type": "stream",
     "text": [
      "1\n"
     ]
    }
   ],
   "source": [
    "a = 1\n",
    "\n",
    "print(a)"
   ]
  },
  {
   "cell_type": "markdown",
   "metadata": {},
   "source": [
    "# 資料型態"
   ]
  },
  {
   "cell_type": "markdown",
   "metadata": {},
   "source": [
    "## 字串"
   ]
  },
  {
   "cell_type": "code",
   "execution_count": 73,
   "metadata": {},
   "outputs": [
    {
     "data": {
      "text/plain": [
       "str"
      ]
     },
     "execution_count": 73,
     "metadata": {},
     "output_type": "execute_result"
    }
   ],
   "source": [
    "type(\"hello world\")"
   ]
  },
  {
   "cell_type": "code",
   "execution_count": 33,
   "metadata": {},
   "outputs": [
    {
     "name": "stdout",
     "output_type": "stream",
     "text": [
      "a的資料型態為  <class 'str'>\n",
      "hello world\n"
     ]
    }
   ],
   "source": [
    "a = \"hello world\" # string\n",
    "\n",
    "print(\"a的資料型態為 \",type(a))\n",
    "print(a)"
   ]
  },
  {
   "cell_type": "markdown",
   "metadata": {},
   "source": [
    "## 數值"
   ]
  },
  {
   "cell_type": "code",
   "execution_count": 34,
   "metadata": {},
   "outputs": [
    {
     "name": "stdout",
     "output_type": "stream",
     "text": [
      "a的資料型態為  <class 'int'>\n",
      "77777\n"
     ]
    }
   ],
   "source": [
    "a = 77777 # int\n",
    "\n",
    "print(\"a的資料型態為 \",type(a))\n",
    "print(a)"
   ]
  },
  {
   "cell_type": "markdown",
   "metadata": {},
   "source": [
    "## 不同型態的資料"
   ]
  },
  {
   "cell_type": "code",
   "execution_count": 21,
   "metadata": {},
   "outputs": [
    {
     "ename": "TypeError",
     "evalue": "unsupported operand type(s) for +: 'int' and 'str'",
     "output_type": "error",
     "traceback": [
      "\u001b[1;31m---------------------------------------------------------------------------\u001b[0m",
      "\u001b[1;31mTypeError\u001b[0m                                 Traceback (most recent call last)",
      "\u001b[1;32m<ipython-input-21-977e5474c07f>\u001b[0m in \u001b[0;36m<module>\u001b[1;34m()\u001b[0m\n\u001b[0;32m      3\u001b[0m \u001b[0mb\u001b[0m \u001b[1;33m=\u001b[0m \u001b[1;34m\"hello world\"\u001b[0m\u001b[1;33m\u001b[0m\u001b[0m\n\u001b[0;32m      4\u001b[0m \u001b[1;33m\u001b[0m\u001b[0m\n\u001b[1;32m----> 5\u001b[1;33m \u001b[0mprint\u001b[0m\u001b[1;33m(\u001b[0m\u001b[0ma\u001b[0m \u001b[1;33m+\u001b[0m \u001b[0mb\u001b[0m\u001b[1;33m)\u001b[0m\u001b[1;33m\u001b[0m\u001b[0m\n\u001b[0m",
      "\u001b[1;31mTypeError\u001b[0m: unsupported operand type(s) for +: 'int' and 'str'"
     ]
    }
   ],
   "source": [
    "a = 77777 # int\n",
    "\n",
    "b = \"hello world\" # string\n",
    "\n",
    "print(a + b)"
   ]
  },
  {
   "cell_type": "code",
   "execution_count": 22,
   "metadata": {},
   "outputs": [
    {
     "name": "stdout",
     "output_type": "stream",
     "text": [
      "999 hello world\n"
     ]
    }
   ],
   "source": [
    "a = 77777 # int\n",
    "\n",
    "b = \"hello world\" # string\n",
    "\n",
    "print(a, b)"
   ]
  },
  {
   "cell_type": "markdown",
   "metadata": {},
   "source": [
    "## 同型態資料"
   ]
  },
  {
   "cell_type": "code",
   "execution_count": 23,
   "metadata": {},
   "outputs": [
    {
     "name": "stdout",
     "output_type": "stream",
     "text": [
      "166665\n"
     ]
    }
   ],
   "source": [
    "a = 77777 # int\n",
    "\n",
    "b = 88888 # int\n",
    "\n",
    "print(a + b)"
   ]
  },
  {
   "cell_type": "code",
   "execution_count": 26,
   "metadata": {},
   "outputs": [
    {
     "name": "stdout",
     "output_type": "stream",
     "text": [
      "helloworld\n"
     ]
    }
   ],
   "source": [
    "a = \"hello\" # string\n",
    "\n",
    "b = \"world\" # string\n",
    "\n",
    "print(a + b)"
   ]
  },
  {
   "cell_type": "markdown",
   "metadata": {},
   "source": [
    "# 算術運算子"
   ]
  },
  {
   "cell_type": "code",
   "execution_count": 32,
   "metadata": {},
   "outputs": [
    {
     "name": "stdout",
     "output_type": "stream",
     "text": [
      "a +  b =  102\n",
      "a -  b =  98\n",
      "a *  b =  200\n",
      "a /  b =  50.0\n",
      "a ** b =  10000\n",
      "a // b =  50\n",
      "a %  b =  0\n"
     ]
    }
   ],
   "source": [
    "a = 100\n",
    "b = 2\n",
    "\n",
    "print(\"a +  b = \", a + b)\n",
    "print(\"a -  b = \", a - b)\n",
    "print(\"a *  b = \", a * b)\n",
    "print(\"a /  b = \", a / b)\n",
    "\n",
    "print(\"a ** b = \", a ** b)  # 次方\n",
    "print(\"a // b = \", a // b)  # 整數除法\n",
    "print(\"a %  b = \", a % b)   # 取餘數"
   ]
  },
  {
   "cell_type": "markdown",
   "metadata": {},
   "source": [
    "# 矩陣"
   ]
  },
  {
   "cell_type": "markdown",
   "metadata": {},
   "source": [
    "## 一維矩陣"
   ]
  },
  {
   "cell_type": "code",
   "execution_count": 47,
   "metadata": {},
   "outputs": [
    {
     "name": "stdout",
     "output_type": "stream",
     "text": [
      "[0, 1, 2, 3, 4, 5, 6, 7, 8, 9]\n"
     ]
    }
   ],
   "source": [
    "a = [0,1,2,3,4,5,6,7,8,9]\n",
    "\n",
    "print(a)"
   ]
  },
  {
   "cell_type": "markdown",
   "metadata": {},
   "source": [
    "# for迴圈"
   ]
  },
  {
   "cell_type": "markdown",
   "metadata": {},
   "source": [
    "## range函數"
   ]
  },
  {
   "cell_type": "code",
   "execution_count": 58,
   "metadata": {},
   "outputs": [
    {
     "data": {
      "text/plain": [
       "range(0, 10)"
      ]
     },
     "execution_count": 58,
     "metadata": {},
     "output_type": "execute_result"
    }
   ],
   "source": [
    "range(10) # range(start, stop)"
   ]
  },
  {
   "cell_type": "code",
   "execution_count": 60,
   "metadata": {},
   "outputs": [
    {
     "name": "stdout",
     "output_type": "stream",
     "text": [
      "0\n",
      "1\n",
      "2\n",
      "3\n",
      "4\n",
      "5\n",
      "6\n",
      "7\n",
      "8\n",
      "9\n"
     ]
    }
   ],
   "source": [
    "for i in range(10):\n",
    "    print(i)"
   ]
  },
  {
   "cell_type": "code",
   "execution_count": 76,
   "metadata": {},
   "outputs": [
    {
     "data": {
      "text/plain": [
       "range(0, 10, 2)"
      ]
     },
     "execution_count": 76,
     "metadata": {},
     "output_type": "execute_result"
    }
   ],
   "source": [
    "range(0, 10, 2) # range(start, stop, step)"
   ]
  },
  {
   "cell_type": "code",
   "execution_count": 77,
   "metadata": {},
   "outputs": [
    {
     "name": "stdout",
     "output_type": "stream",
     "text": [
      "0\n",
      "2\n",
      "4\n",
      "6\n",
      "8\n"
     ]
    }
   ],
   "source": [
    "for i in range(0, 10, 2):\n",
    "    print(i)"
   ]
  },
  {
   "cell_type": "markdown",
   "metadata": {},
   "source": [
    "# 雙層迴圈"
   ]
  },
  {
   "cell_type": "code",
   "execution_count": 81,
   "metadata": {},
   "outputs": [
    {
     "name": "stdout",
     "output_type": "stream",
     "text": [
      "i :  0 j :  0\n",
      "i :  0 j :  1\n",
      "i :  0 j :  2\n",
      "i :  0 j :  3\n",
      "i :  0 j :  4\n",
      "i :  0 j :  5\n",
      "i :  0 j :  6\n",
      "i :  0 j :  7\n",
      "i :  0 j :  8\n",
      "i :  0 j :  9\n",
      "\n",
      "i :  1 j :  0\n",
      "i :  1 j :  1\n",
      "i :  1 j :  2\n",
      "i :  1 j :  3\n",
      "i :  1 j :  4\n",
      "i :  1 j :  5\n",
      "i :  1 j :  6\n",
      "i :  1 j :  7\n",
      "i :  1 j :  8\n",
      "i :  1 j :  9\n",
      "\n",
      "i :  2 j :  0\n",
      "i :  2 j :  1\n",
      "i :  2 j :  2\n",
      "i :  2 j :  3\n",
      "i :  2 j :  4\n",
      "i :  2 j :  5\n",
      "i :  2 j :  6\n",
      "i :  2 j :  7\n",
      "i :  2 j :  8\n",
      "i :  2 j :  9\n",
      "\n",
      "i :  3 j :  0\n",
      "i :  3 j :  1\n",
      "i :  3 j :  2\n",
      "i :  3 j :  3\n",
      "i :  3 j :  4\n",
      "i :  3 j :  5\n",
      "i :  3 j :  6\n",
      "i :  3 j :  7\n",
      "i :  3 j :  8\n",
      "i :  3 j :  9\n",
      "\n",
      "i :  4 j :  0\n",
      "i :  4 j :  1\n",
      "i :  4 j :  2\n",
      "i :  4 j :  3\n",
      "i :  4 j :  4\n",
      "i :  4 j :  5\n",
      "i :  4 j :  6\n",
      "i :  4 j :  7\n",
      "i :  4 j :  8\n",
      "i :  4 j :  9\n",
      "\n",
      "i :  5 j :  0\n",
      "i :  5 j :  1\n",
      "i :  5 j :  2\n",
      "i :  5 j :  3\n",
      "i :  5 j :  4\n",
      "i :  5 j :  5\n",
      "i :  5 j :  6\n",
      "i :  5 j :  7\n",
      "i :  5 j :  8\n",
      "i :  5 j :  9\n",
      "\n",
      "i :  6 j :  0\n",
      "i :  6 j :  1\n",
      "i :  6 j :  2\n",
      "i :  6 j :  3\n",
      "i :  6 j :  4\n",
      "i :  6 j :  5\n",
      "i :  6 j :  6\n",
      "i :  6 j :  7\n",
      "i :  6 j :  8\n",
      "i :  6 j :  9\n",
      "\n",
      "i :  7 j :  0\n",
      "i :  7 j :  1\n",
      "i :  7 j :  2\n",
      "i :  7 j :  3\n",
      "i :  7 j :  4\n",
      "i :  7 j :  5\n",
      "i :  7 j :  6\n",
      "i :  7 j :  7\n",
      "i :  7 j :  8\n",
      "i :  7 j :  9\n",
      "\n",
      "i :  8 j :  0\n",
      "i :  8 j :  1\n",
      "i :  8 j :  2\n",
      "i :  8 j :  3\n",
      "i :  8 j :  4\n",
      "i :  8 j :  5\n",
      "i :  8 j :  6\n",
      "i :  8 j :  7\n",
      "i :  8 j :  8\n",
      "i :  8 j :  9\n",
      "\n",
      "i :  9 j :  0\n",
      "i :  9 j :  1\n",
      "i :  9 j :  2\n",
      "i :  9 j :  3\n",
      "i :  9 j :  4\n",
      "i :  9 j :  5\n",
      "i :  9 j :  6\n",
      "i :  9 j :  7\n",
      "i :  9 j :  8\n",
      "i :  9 j :  9\n",
      "\n"
     ]
    }
   ],
   "source": [
    "for i in range(10):\n",
    "    for j in range(10):\n",
    "        print(\"i : \", i, end=\"\")\n",
    "        print(\" j : \", j)\n",
    "    print(\"\")"
   ]
  },
  {
   "cell_type": "markdown",
   "metadata": {},
   "source": [
    "# 九九乘法表"
   ]
  },
  {
   "cell_type": "code",
   "execution_count": 83,
   "metadata": {},
   "outputs": [
    {
     "name": "stdout",
     "output_type": "stream",
     "text": [
      "1 * 1 = 1\n",
      "1 * 2 = 2\n",
      "1 * 3 = 3\n",
      "1 * 4 = 4\n",
      "1 * 5 = 5\n",
      "1 * 6 = 6\n",
      "1 * 7 = 7\n",
      "1 * 8 = 8\n",
      "1 * 9 = 9\n",
      "\n",
      "2 * 1 = 2\n",
      "2 * 2 = 4\n",
      "2 * 3 = 6\n",
      "2 * 4 = 8\n",
      "2 * 5 = 10\n",
      "2 * 6 = 12\n",
      "2 * 7 = 14\n",
      "2 * 8 = 16\n",
      "2 * 9 = 18\n",
      "\n",
      "3 * 1 = 3\n",
      "3 * 2 = 6\n",
      "3 * 3 = 9\n",
      "3 * 4 = 12\n",
      "3 * 5 = 15\n",
      "3 * 6 = 18\n",
      "3 * 7 = 21\n",
      "3 * 8 = 24\n",
      "3 * 9 = 27\n",
      "\n",
      "4 * 1 = 4\n",
      "4 * 2 = 8\n",
      "4 * 3 = 12\n",
      "4 * 4 = 16\n",
      "4 * 5 = 20\n",
      "4 * 6 = 24\n",
      "4 * 7 = 28\n",
      "4 * 8 = 32\n",
      "4 * 9 = 36\n",
      "\n",
      "5 * 1 = 5\n",
      "5 * 2 = 10\n",
      "5 * 3 = 15\n",
      "5 * 4 = 20\n",
      "5 * 5 = 25\n",
      "5 * 6 = 30\n",
      "5 * 7 = 35\n",
      "5 * 8 = 40\n",
      "5 * 9 = 45\n",
      "\n",
      "6 * 1 = 6\n",
      "6 * 2 = 12\n",
      "6 * 3 = 18\n",
      "6 * 4 = 24\n",
      "6 * 5 = 30\n",
      "6 * 6 = 36\n",
      "6 * 7 = 42\n",
      "6 * 8 = 48\n",
      "6 * 9 = 54\n",
      "\n",
      "7 * 1 = 7\n",
      "7 * 2 = 14\n",
      "7 * 3 = 21\n",
      "7 * 4 = 28\n",
      "7 * 5 = 35\n",
      "7 * 6 = 42\n",
      "7 * 7 = 49\n",
      "7 * 8 = 56\n",
      "7 * 9 = 63\n",
      "\n",
      "8 * 1 = 8\n",
      "8 * 2 = 16\n",
      "8 * 3 = 24\n",
      "8 * 4 = 32\n",
      "8 * 5 = 40\n",
      "8 * 6 = 48\n",
      "8 * 7 = 56\n",
      "8 * 8 = 64\n",
      "8 * 9 = 72\n",
      "\n",
      "9 * 1 = 9\n",
      "9 * 2 = 18\n",
      "9 * 3 = 27\n",
      "9 * 4 = 36\n",
      "9 * 5 = 45\n",
      "9 * 6 = 54\n",
      "9 * 7 = 63\n",
      "9 * 8 = 72\n",
      "9 * 9 = 81\n",
      "\n"
     ]
    }
   ],
   "source": [
    "for i in range(1,10):\n",
    "    for j in range(1,10):\n",
    "        print(i, \"*\", j, \"=\", i*j)\n",
    "        \n",
    "    print(\"\")"
   ]
  }
 ],
 "metadata": {
  "kernelspec": {
   "display_name": "Python [conda root]",
   "language": "python",
   "name": "conda-root-py"
  },
  "language_info": {
   "codemirror_mode": {
    "name": "ipython",
    "version": 3
   },
   "file_extension": ".py",
   "mimetype": "text/x-python",
   "name": "python",
   "nbconvert_exporter": "python",
   "pygments_lexer": "ipython3",
   "version": "3.6.3"
  }
 },
 "nbformat": 4,
 "nbformat_minor": 2
}
