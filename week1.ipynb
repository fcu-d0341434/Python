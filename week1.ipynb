{
 "cells": [
  {
   "cell_type": "markdown",
   "metadata": {},
   "source": [
    "# Python3"
   ]
  },
  {
   "cell_type": "code",
   "execution_count": 1,
   "metadata": {},
   "outputs": [
    {
     "name": "stdout",
     "output_type": "stream",
     "text": [
      "hello world\n"
     ]
    }
   ],
   "source": [
    "print(\"hello world\")"
   ]
  },
  {
   "cell_type": "markdown",
   "metadata": {},
   "source": [
    "# 變數"
   ]
  },
  {
   "cell_type": "code",
   "execution_count": 2,
   "metadata": {},
   "outputs": [
    {
     "name": "stdout",
     "output_type": "stream",
     "text": [
      "hello world\n"
     ]
    }
   ],
   "source": [
    "a = \"hello world\"\n",
    "\n",
    "print(a)"
   ]
  },
  {
   "cell_type": "code",
   "execution_count": 3,
   "metadata": {},
   "outputs": [
    {
     "name": "stdout",
     "output_type": "stream",
     "text": [
      "1\n"
     ]
    }
   ],
   "source": [
    "a = 1\n",
    "\n",
    "print(a)"
   ]
  },
  {
   "cell_type": "markdown",
   "metadata": {},
   "source": [
    "# 資料型態"
   ]
  },
  {
   "cell_type": "markdown",
   "metadata": {},
   "source": [
    "## 字串"
   ]
  },
  {
   "cell_type": "code",
   "execution_count": 4,
   "metadata": {},
   "outputs": [
    {
     "data": {
      "text/plain": [
       "str"
      ]
     },
     "execution_count": 4,
     "metadata": {},
     "output_type": "execute_result"
    }
   ],
   "source": [
    "type(\"hello world\")"
   ]
  },
  {
   "cell_type": "code",
   "execution_count": 5,
   "metadata": {},
   "outputs": [
    {
     "name": "stdout",
     "output_type": "stream",
     "text": [
      "a的資料型態為  <class 'str'>\n",
      "hello world\n"
     ]
    }
   ],
   "source": [
    "a = \"hello world\" # string\n",
    "\n",
    "print(\"a的資料型態為 \",type(a))\n",
    "print(a)"
   ]
  },
  {
   "cell_type": "markdown",
   "metadata": {},
   "source": [
    "## 數值"
   ]
  },
  {
   "cell_type": "code",
   "execution_count": 6,
   "metadata": {},
   "outputs": [
    {
     "name": "stdout",
     "output_type": "stream",
     "text": [
      "a的資料型態為  <class 'int'>\n",
      "77777\n"
     ]
    }
   ],
   "source": [
    "a = 77777 # int\n",
    "\n",
    "print(\"a的資料型態為 \",type(a))\n",
    "print(a)"
   ]
  },
  {
   "cell_type": "markdown",
   "metadata": {},
   "source": [
    "## 不同型態的資料"
   ]
  },
  {
   "cell_type": "code",
   "execution_count": 7,
   "metadata": {},
   "outputs": [
    {
     "ename": "TypeError",
     "evalue": "unsupported operand type(s) for +: 'int' and 'str'",
     "output_type": "error",
     "traceback": [
      "\u001b[1;31m---------------------------------------------------------------------------\u001b[0m",
      "\u001b[1;31mTypeError\u001b[0m                                 Traceback (most recent call last)",
      "\u001b[1;32m<ipython-input-7-fd38fc4be278>\u001b[0m in \u001b[0;36m<module>\u001b[1;34m()\u001b[0m\n\u001b[0;32m      3\u001b[0m \u001b[0mb\u001b[0m \u001b[1;33m=\u001b[0m \u001b[1;34m\"hello world\"\u001b[0m \u001b[1;31m# string\u001b[0m\u001b[1;33m\u001b[0m\u001b[0m\n\u001b[0;32m      4\u001b[0m \u001b[1;33m\u001b[0m\u001b[0m\n\u001b[1;32m----> 5\u001b[1;33m \u001b[0mprint\u001b[0m\u001b[1;33m(\u001b[0m\u001b[0ma\u001b[0m \u001b[1;33m+\u001b[0m \u001b[0mb\u001b[0m\u001b[1;33m)\u001b[0m\u001b[1;33m\u001b[0m\u001b[0m\n\u001b[0m",
      "\u001b[1;31mTypeError\u001b[0m: unsupported operand type(s) for +: 'int' and 'str'"
     ]
    }
   ],
   "source": [
    "a = 77777 # int\n",
    "\n",
    "b = \"hello world\" # string\n",
    "\n",
    "print(a + b)"
   ]
  },
  {
   "cell_type": "code",
   "execution_count": 8,
   "metadata": {},
   "outputs": [
    {
     "name": "stdout",
     "output_type": "stream",
     "text": [
      "77777 hello world\n"
     ]
    }
   ],
   "source": [
    "a = 77777 # int\n",
    "\n",
    "b = \"hello world\" # string\n",
    "\n",
    "print(a, b)"
   ]
  },
  {
   "cell_type": "markdown",
   "metadata": {},
   "source": [
    "## 同型態資料"
   ]
  },
  {
   "cell_type": "code",
   "execution_count": 9,
   "metadata": {},
   "outputs": [
    {
     "name": "stdout",
     "output_type": "stream",
     "text": [
      "166665\n"
     ]
    }
   ],
   "source": [
    "a = 77777 # int\n",
    "\n",
    "b = 88888 # int\n",
    "\n",
    "print(a + b)"
   ]
  },
  {
   "cell_type": "code",
   "execution_count": 10,
   "metadata": {},
   "outputs": [
    {
     "name": "stdout",
     "output_type": "stream",
     "text": [
      "helloworld\n"
     ]
    }
   ],
   "source": [
    "a = \"hello\" # string\n",
    "\n",
    "b = \"world\" # string\n",
    "\n",
    "print(a + b)"
   ]
  },
  {
   "cell_type": "markdown",
   "metadata": {},
   "source": [
    "## 不同的顯示方式"
   ]
  },
  {
   "cell_type": "code",
   "execution_count": 21,
   "metadata": {},
   "outputs": [
    {
     "name": "stdout",
     "output_type": "stream",
     "text": [
      "我有6個姊姊\n"
     ]
    }
   ],
   "source": [
    "a = 6\n",
    "\n",
    "print(\"我有%d個姊姊\" %(a))"
   ]
  },
  {
   "cell_type": "code",
   "execution_count": 22,
   "metadata": {},
   "outputs": [
    {
     "name": "stdout",
     "output_type": "stream",
     "text": [
      "我有6個姊姊，1個哥哥\n"
     ]
    }
   ],
   "source": [
    "a = 6\n",
    "b = 1\n",
    "\n",
    "print(\"我有%d個姊姊，%d個哥哥\" %(a, b))"
   ]
  },
  {
   "cell_type": "code",
   "execution_count": 23,
   "metadata": {},
   "outputs": [
    {
     "name": "stdout",
     "output_type": "stream",
     "text": [
      "我有6個姊姊，1個哥哥，每人給我兩百，讓我去唱歌\n"
     ]
    }
   ],
   "source": [
    "a = 6\n",
    "b = 1\n",
    "c = \"兩百\"\n",
    "\n",
    "print(\"我有%d個姊姊，%d個哥哥，每人給我%s，讓我去唱歌\" %(a, b, c))"
   ]
  },
  {
   "cell_type": "markdown",
   "metadata": {},
   "source": [
    "# 算術運算子"
   ]
  },
  {
   "cell_type": "code",
   "execution_count": 11,
   "metadata": {},
   "outputs": [
    {
     "name": "stdout",
     "output_type": "stream",
     "text": [
      "a +  b =  102\n",
      "a -  b =  98\n",
      "a *  b =  200\n",
      "a /  b =  50.0\n",
      "a ** b =  10000\n",
      "a // b =  50\n",
      "a %  b =  0\n"
     ]
    }
   ],
   "source": [
    "a = 100\n",
    "b = 2\n",
    "\n",
    "print(\"a +  b = \", a + b)\n",
    "print(\"a -  b = \", a - b)\n",
    "print(\"a *  b = \", a * b)\n",
    "print(\"a /  b = \", a / b)\n",
    "\n",
    "print(\"a ** b = \", a ** b)  # 次方\n",
    "print(\"a // b = \", a // b)  # 整數除法\n",
    "print(\"a %  b = \", a % b)   # 取餘數"
   ]
  },
  {
   "cell_type": "markdown",
   "metadata": {},
   "source": [
    "# 矩陣"
   ]
  },
  {
   "cell_type": "markdown",
   "metadata": {},
   "source": [
    "## 一維矩陣"
   ]
  },
  {
   "cell_type": "code",
   "execution_count": 12,
   "metadata": {},
   "outputs": [
    {
     "name": "stdout",
     "output_type": "stream",
     "text": [
      "[0, 1, 2, 3, 4, 5, 6, 7, 8, 9]\n"
     ]
    }
   ],
   "source": [
    "a = [0,1,2,3,4,5,6,7,8,9]\n",
    "\n",
    "print(a)"
   ]
  },
  {
   "cell_type": "markdown",
   "metadata": {},
   "source": [
    "# for迴圈"
   ]
  },
  {
   "cell_type": "markdown",
   "metadata": {},
   "source": [
    "## range函數"
   ]
  },
  {
   "cell_type": "code",
   "execution_count": 13,
   "metadata": {},
   "outputs": [
    {
     "data": {
      "text/plain": [
       "range(0, 10)"
      ]
     },
     "execution_count": 13,
     "metadata": {},
     "output_type": "execute_result"
    }
   ],
   "source": [
    "range(10) # range(start, stop)"
   ]
  },
  {
   "cell_type": "code",
   "execution_count": 14,
   "metadata": {},
   "outputs": [
    {
     "name": "stdout",
     "output_type": "stream",
     "text": [
      "0\n",
      "1\n",
      "2\n",
      "3\n",
      "4\n",
      "5\n",
      "6\n",
      "7\n",
      "8\n",
      "9\n"
     ]
    }
   ],
   "source": [
    "for i in range(10):\n",
    "    print(i)"
   ]
  },
  {
   "cell_type": "code",
   "execution_count": 15,
   "metadata": {},
   "outputs": [
    {
     "data": {
      "text/plain": [
       "range(0, 10, 2)"
      ]
     },
     "execution_count": 15,
     "metadata": {},
     "output_type": "execute_result"
    }
   ],
   "source": [
    "range(0, 10, 2) # range(start, stop, step)"
   ]
  },
  {
   "cell_type": "code",
   "execution_count": 16,
   "metadata": {},
   "outputs": [
    {
     "name": "stdout",
     "output_type": "stream",
     "text": [
      "0\n",
      "2\n",
      "4\n",
      "6\n",
      "8\n"
     ]
    }
   ],
   "source": [
    "for i in range(0, 10, 2):\n",
    "    print(i)"
   ]
  },
  {
   "cell_type": "markdown",
   "metadata": {},
   "source": [
    "# 雙層迴圈"
   ]
  },
  {
   "cell_type": "code",
   "execution_count": 17,
   "metadata": {},
   "outputs": [
    {
     "name": "stdout",
     "output_type": "stream",
     "text": [
      "i :  0 j :  0\n",
      "i :  0 j :  1\n",
      "i :  0 j :  2\n",
      "i :  0 j :  3\n",
      "i :  0 j :  4\n",
      "i :  0 j :  5\n",
      "i :  0 j :  6\n",
      "i :  0 j :  7\n",
      "i :  0 j :  8\n",
      "i :  0 j :  9\n",
      "\n",
      "i :  1 j :  0\n",
      "i :  1 j :  1\n",
      "i :  1 j :  2\n",
      "i :  1 j :  3\n",
      "i :  1 j :  4\n",
      "i :  1 j :  5\n",
      "i :  1 j :  6\n",
      "i :  1 j :  7\n",
      "i :  1 j :  8\n",
      "i :  1 j :  9\n",
      "\n",
      "i :  2 j :  0\n",
      "i :  2 j :  1\n",
      "i :  2 j :  2\n",
      "i :  2 j :  3\n",
      "i :  2 j :  4\n",
      "i :  2 j :  5\n",
      "i :  2 j :  6\n",
      "i :  2 j :  7\n",
      "i :  2 j :  8\n",
      "i :  2 j :  9\n",
      "\n",
      "i :  3 j :  0\n",
      "i :  3 j :  1\n",
      "i :  3 j :  2\n",
      "i :  3 j :  3\n",
      "i :  3 j :  4\n",
      "i :  3 j :  5\n",
      "i :  3 j :  6\n",
      "i :  3 j :  7\n",
      "i :  3 j :  8\n",
      "i :  3 j :  9\n",
      "\n",
      "i :  4 j :  0\n",
      "i :  4 j :  1\n",
      "i :  4 j :  2\n",
      "i :  4 j :  3\n",
      "i :  4 j :  4\n",
      "i :  4 j :  5\n",
      "i :  4 j :  6\n",
      "i :  4 j :  7\n",
      "i :  4 j :  8\n",
      "i :  4 j :  9\n",
      "\n",
      "i :  5 j :  0\n",
      "i :  5 j :  1\n",
      "i :  5 j :  2\n",
      "i :  5 j :  3\n",
      "i :  5 j :  4\n",
      "i :  5 j :  5\n",
      "i :  5 j :  6\n",
      "i :  5 j :  7\n",
      "i :  5 j :  8\n",
      "i :  5 j :  9\n",
      "\n",
      "i :  6 j :  0\n",
      "i :  6 j :  1\n",
      "i :  6 j :  2\n",
      "i :  6 j :  3\n",
      "i :  6 j :  4\n",
      "i :  6 j :  5\n",
      "i :  6 j :  6\n",
      "i :  6 j :  7\n",
      "i :  6 j :  8\n",
      "i :  6 j :  9\n",
      "\n",
      "i :  7 j :  0\n",
      "i :  7 j :  1\n",
      "i :  7 j :  2\n",
      "i :  7 j :  3\n",
      "i :  7 j :  4\n",
      "i :  7 j :  5\n",
      "i :  7 j :  6\n",
      "i :  7 j :  7\n",
      "i :  7 j :  8\n",
      "i :  7 j :  9\n",
      "\n",
      "i :  8 j :  0\n",
      "i :  8 j :  1\n",
      "i :  8 j :  2\n",
      "i :  8 j :  3\n",
      "i :  8 j :  4\n",
      "i :  8 j :  5\n",
      "i :  8 j :  6\n",
      "i :  8 j :  7\n",
      "i :  8 j :  8\n",
      "i :  8 j :  9\n",
      "\n",
      "i :  9 j :  0\n",
      "i :  9 j :  1\n",
      "i :  9 j :  2\n",
      "i :  9 j :  3\n",
      "i :  9 j :  4\n",
      "i :  9 j :  5\n",
      "i :  9 j :  6\n",
      "i :  9 j :  7\n",
      "i :  9 j :  8\n",
      "i :  9 j :  9\n",
      "\n"
     ]
    }
   ],
   "source": [
    "for i in range(10):\n",
    "    for j in range(10):\n",
    "        print(\"i : \", i, end=\"\") # end為結尾字符，預設為換行符號，這裡等於空代表不要換行\n",
    "        print(\" j : \", j)\n",
    "    print(\"\")"
   ]
  },
  {
   "cell_type": "markdown",
   "metadata": {},
   "source": [
    "# 九九乘法表"
   ]
  },
  {
   "cell_type": "code",
   "execution_count": 18,
   "metadata": {},
   "outputs": [
    {
     "name": "stdout",
     "output_type": "stream",
     "text": [
      "  1 * 1 = 1\n",
      "  1 * 2 = 2\n",
      "  1 * 3 = 3\n",
      "  1 * 4 = 4\n",
      "  1 * 5 = 5\n",
      "  1 * 6 = 6\n",
      "  1 * 7 = 7\n",
      "  1 * 8 = 8\n",
      "  1 * 9 = 9\n",
      "\n",
      "  2 * 1 = 2\n",
      "  2 * 2 = 4\n",
      "  2 * 3 = 6\n",
      "  2 * 4 = 8\n",
      "  2 * 5 = 10\n",
      "  2 * 6 = 12\n",
      "  2 * 7 = 14\n",
      "  2 * 8 = 16\n",
      "  2 * 9 = 18\n",
      "\n",
      "  3 * 1 = 3\n",
      "  3 * 2 = 6\n",
      "  3 * 3 = 9\n",
      "  3 * 4 = 12\n",
      "  3 * 5 = 15\n",
      "  3 * 6 = 18\n",
      "  3 * 7 = 21\n",
      "  3 * 8 = 24\n",
      "  3 * 9 = 27\n",
      "\n",
      "  4 * 1 = 4\n",
      "  4 * 2 = 8\n",
      "  4 * 3 = 12\n",
      "  4 * 4 = 16\n",
      "  4 * 5 = 20\n",
      "  4 * 6 = 24\n",
      "  4 * 7 = 28\n",
      "  4 * 8 = 32\n",
      "  4 * 9 = 36\n",
      "\n",
      "  5 * 1 = 5\n",
      "  5 * 2 = 10\n",
      "  5 * 3 = 15\n",
      "  5 * 4 = 20\n",
      "  5 * 5 = 25\n",
      "  5 * 6 = 30\n",
      "  5 * 7 = 35\n",
      "  5 * 8 = 40\n",
      "  5 * 9 = 45\n",
      "\n",
      "  6 * 1 = 6\n",
      "  6 * 2 = 12\n",
      "  6 * 3 = 18\n",
      "  6 * 4 = 24\n",
      "  6 * 5 = 30\n",
      "  6 * 6 = 36\n",
      "  6 * 7 = 42\n",
      "  6 * 8 = 48\n",
      "  6 * 9 = 54\n",
      "\n",
      "  7 * 1 = 7\n",
      "  7 * 2 = 14\n",
      "  7 * 3 = 21\n",
      "  7 * 4 = 28\n",
      "  7 * 5 = 35\n",
      "  7 * 6 = 42\n",
      "  7 * 7 = 49\n",
      "  7 * 8 = 56\n",
      "  7 * 9 = 63\n",
      "\n",
      "  8 * 1 = 8\n",
      "  8 * 2 = 16\n",
      "  8 * 3 = 24\n",
      "  8 * 4 = 32\n",
      "  8 * 5 = 40\n",
      "  8 * 6 = 48\n",
      "  8 * 7 = 56\n",
      "  8 * 8 = 64\n",
      "  8 * 9 = 72\n",
      "\n",
      "  9 * 1 = 9\n",
      "  9 * 2 = 18\n",
      "  9 * 3 = 27\n",
      "  9 * 4 = 36\n",
      "  9 * 5 = 45\n",
      "  9 * 6 = 54\n",
      "  9 * 7 = 63\n",
      "  9 * 8 = 72\n",
      "  9 * 9 = 81\n",
      "\n"
     ]
    }
   ],
   "source": [
    "for i in range(1,10):\n",
    "    for j in range(1,10):\n",
    "        print(\" \", i, \"*\", j, \"=\", i*j)\n",
    "        \n",
    "    print(\"\")"
   ]
  },
  {
   "cell_type": "markdown",
   "metadata": {},
   "source": [
    "# 實作"
   ]
  },
  {
   "cell_type": "markdown",
   "metadata": {},
   "source": [
    "# 如何讓九九乘法表橫向印出來?"
   ]
  },
  {
   "cell_type": "code",
   "execution_count": 27,
   "metadata": {
    "scrolled": true
   },
   "outputs": [
    {
     "name": "stdout",
     "output_type": "stream",
     "text": [
      "   1*1 =  1   2*1 =  2   3*1 =  3   4*1 =  4   5*1 =  5   6*1 =  6   7*1 =  7   8*1 =  8   9*1 =  9\n",
      "   1*2 =  2   2*2 =  4   3*2 =  6   4*2 =  8   5*2 = 10   6*2 = 12   7*2 = 14   8*2 = 16   9*2 = 18\n",
      "   1*3 =  3   2*3 =  6   3*3 =  9   4*3 = 12   5*3 = 15   6*3 = 18   7*3 = 21   8*3 = 24   9*3 = 27\n",
      "   1*4 =  4   2*4 =  8   3*4 = 12   4*4 = 16   5*4 = 20   6*4 = 24   7*4 = 28   8*4 = 32   9*4 = 36\n",
      "   1*5 =  5   2*5 = 10   3*5 = 15   4*5 = 20   5*5 = 25   6*5 = 30   7*5 = 35   8*5 = 40   9*5 = 45\n",
      "   1*6 =  6   2*6 = 12   3*6 = 18   4*6 = 24   5*6 = 30   6*6 = 36   7*6 = 42   8*6 = 48   9*6 = 54\n",
      "   1*7 =  7   2*7 = 14   3*7 = 21   4*7 = 28   5*7 = 35   6*7 = 42   7*7 = 49   8*7 = 56   9*7 = 63\n",
      "   1*8 =  8   2*8 = 16   3*8 = 24   4*8 = 32   5*8 = 40   6*8 = 48   7*8 = 56   8*8 = 64   9*8 = 72\n",
      "   1*9 =  9   2*9 = 18   3*9 = 27   4*9 = 36   5*9 = 45   6*9 = 54   7*9 = 63   8*9 = 72   9*9 = 81\n"
     ]
    }
   ],
   "source": [
    "for j in range(1,10):\n",
    "    for i in range(1,10):\n",
    "        print(\"   %d*%d =%3d\" %(i, j ,i*j), end=\"\")\n",
    "    print(\"\")"
   ]
  },
  {
   "cell_type": "markdown",
   "metadata": {},
   "source": [
    "# 井字遊戲"
   ]
  },
  {
   "cell_type": "code",
   "execution_count": 3,
   "metadata": {},
   "outputs": [
    {
     "name": "stdout",
     "output_type": "stream",
     "text": [
      "   |   |  \n",
      "-----------\n",
      "   |   |  \n",
      "-----------\n",
      "   |   |  \n",
      "\n",
      "O 請輸入位置:1\n",
      "   |   |  \n",
      "-----------\n",
      "   |   |  \n",
      "-----------\n",
      " O |   |  \n",
      "\n",
      "X 請輸入位置:2\n",
      "   |   |  \n",
      "-----------\n",
      "   |   |  \n",
      "-----------\n",
      " O | X |  \n",
      "\n",
      "O 請輸入位置:3\n",
      "   |   |  \n",
      "-----------\n",
      "   |   |  \n",
      "-----------\n",
      " O | X | O\n",
      "\n",
      "X 請輸入位置:4\n",
      "   |   |  \n",
      "-----------\n",
      " X |   |  \n",
      "-----------\n",
      " O | X | O\n",
      "\n",
      "O 請輸入位置:5\n",
      "   |   |  \n",
      "-----------\n",
      " X | O |  \n",
      "-----------\n",
      " O | X | O\n",
      "\n",
      "X 請輸入位置:6\n",
      "   |   |  \n",
      "-----------\n",
      " X | O | X\n",
      "-----------\n",
      " O | X | O\n",
      "\n",
      "O 請輸入位置:7\n",
      " O |   |  \n",
      "-----------\n",
      " X | O | X\n",
      "-----------\n",
      " O | X | O\n",
      "\n",
      "X 請輸入位置:8\n",
      " O | X |  \n",
      "-----------\n",
      " X | O | X\n",
      "-----------\n",
      " O | X | O\n",
      "\n",
      "O 請輸入位置:9\n",
      " O | X | O\n",
      "-----------\n",
      " X | O | X\n",
      "-----------\n",
      " O | X | O\n",
      "\n"
     ]
    }
   ],
   "source": [
    "position =[\" \",\" \",\" \",\" \",\" \",\" \",\" \",\" \",\" \"] \n",
    "sign = [\"O\",\"X\"]\n",
    "\n",
    "print(\" %s | %s | %s\" %(position[0],position[1],position[2]))\n",
    "print(\"-----------\")\n",
    "print(\" %s | %s | %s\" %(position[3],position[4],position[5]))\n",
    "print(\"-----------\")\n",
    "print(\" %s | %s | %s\" %(position[6],position[7],position[8]))\n",
    "print(\"\")\n",
    "\n",
    "for i in range(9):\n",
    "    temp = int(input(\"%s 請輸入位置:\" %(sign[i%2])))\n",
    "    position[temp-1] = sign[i%2]\n",
    "\n",
    "    print(\" %s | %s | %s\" %(position[6],position[7],position[8]))\n",
    "    print(\"-----------\")\n",
    "    print(\" %s | %s | %s\" %(position[3],position[4],position[5]))\n",
    "    print(\"-----------\")\n",
    "    print(\" %s | %s | %s\" %(position[0],position[1],position[2]))\n",
    "    print(\"\")"
   ]
  },
  {
   "cell_type": "markdown",
   "metadata": {},
   "source": [
    "# 邏輯運算"
   ]
  },
  {
   "cell_type": "markdown",
   "metadata": {},
   "source": [
    "# 布林資料型態"
   ]
  },
  {
   "cell_type": "code",
   "execution_count": 1,
   "metadata": {},
   "outputs": [
    {
     "name": "stdout",
     "output_type": "stream",
     "text": [
      "<class 'bool'>\n",
      "<class 'bool'>\n",
      "True\n",
      "False\n"
     ]
    }
   ],
   "source": [
    "t = True\n",
    "f = False\n",
    "\n",
    "print(type(t))\n",
    "print(type(f))\n",
    "\n",
    "print(t)\n",
    "print(f)"
   ]
  },
  {
   "cell_type": "code",
   "execution_count": 2,
   "metadata": {},
   "outputs": [
    {
     "name": "stdout",
     "output_type": "stream",
     "text": [
      "False\n",
      "True\n",
      "False\n",
      "True\n"
     ]
    }
   ],
   "source": [
    "t = True\n",
    "f = False\n",
    "\n",
    "print(t and f) # 兩個都要為True，結果才為True\n",
    "print(t or f)  # 其中一個為True，結果就為True\n",
    "print(not t)   # 不是True，結果為否\n",
    "print(t != f)  # 如果True不等於 False，結果為True"
   ]
  },
  {
   "cell_type": "code",
   "execution_count": null,
   "metadata": {
    "collapsed": true
   },
   "outputs": [],
   "source": []
  },
  {
   "cell_type": "markdown",
   "metadata": {},
   "source": [
    "# 比較運算子"
   ]
  },
  {
   "cell_type": "code",
   "execution_count": 7,
   "metadata": {},
   "outputs": [
    {
     "name": "stdout",
     "output_type": "stream",
     "text": [
      "a==b:  True\n",
      "a!=b:  False\n",
      "a>b :  False\n",
      "a<b :  False\n",
      "a>=b:  True\n",
      "a<=b:  True\n"
     ]
    }
   ],
   "source": [
    "a = 1\n",
    "b = 1\n",
    "\n",
    "print(\"a==b: \", a==b)\n",
    "print(\"a!=b: \", a!=b)\n",
    "print(\"a>b : \", a>b)\n",
    "print(\"a<b : \", a<b)\n",
    "print(\"a>=b: \", a>=b)\n",
    "print(\"a<=b: \", a<=b)"
   ]
  },
  {
   "cell_type": "code",
   "execution_count": 8,
   "metadata": {},
   "outputs": [
    {
     "name": "stdout",
     "output_type": "stream",
     "text": [
      "a==b:  False\n",
      "a!=b:  True\n",
      "a>b :  False\n",
      "a<b :  True\n",
      "a>=b:  False\n",
      "a<=b:  True\n"
     ]
    }
   ],
   "source": [
    "a = \"hello\"\n",
    "b = \"world\"\n",
    "\n",
    "print(\"a==b: \", a==b)\n",
    "print(\"a!=b: \", a!=b)\n",
    "print(\"a>b : \", a>b)\n",
    "print(\"a<b : \", a<b)\n",
    "print(\"a>=b: \", a>=b)\n",
    "print(\"a<=b: \", a<=b)"
   ]
  },
  {
   "cell_type": "code",
   "execution_count": 5,
   "metadata": {},
   "outputs": [
    {
     "name": "stdout",
     "output_type": "stream",
     "text": [
      "a == b :  False\n",
      "a != b :  True\n",
      "a >  b:   False\n",
      "a <  b:   True\n",
      "a >= b :  False\n",
      "a <= b:   True\n"
     ]
    }
   ],
   "source": [
    "a = [1,1]\n",
    "b = [1,2]\n",
    "\n",
    "print(\"a == b : \", a==b)\n",
    "print(\"a != b : \", a!=b)\n",
    "print(\"a >  b:  \", a>b)\n",
    "print(\"a <  b:  \", a<b)\n",
    "print(\"a >= b : \", a>=b)\n",
    "print(\"a <= b:  \", a<=b)"
   ]
  },
  {
   "cell_type": "markdown",
   "metadata": {},
   "source": [
    "# if 條件語句"
   ]
  },
  {
   "cell_type": "code",
   "execution_count": 34,
   "metadata": {},
   "outputs": [
    {
     "name": "stdout",
     "output_type": "stream",
     "text": [
      "a等於1\n"
     ]
    }
   ],
   "source": [
    "a = 1\n",
    "\n",
    "if(a==1):\n",
    "    print(\"a等於1\")\n",
    "else:\n",
    "    print(\"a不等於1\")"
   ]
  },
  {
   "cell_type": "code",
   "execution_count": 37,
   "metadata": {},
   "outputs": [
    {
     "name": "stdout",
     "output_type": "stream",
     "text": [
      "a不等於1或2\n"
     ]
    }
   ],
   "source": [
    "a = 3\n",
    "\n",
    "if(a==1):\n",
    "    print(\"a等於1\")\n",
    "elif(a==2):\n",
    "    print(\"a等於2\")\n",
    "else:\n",
    "    print(\"a不等於1或2\")"
   ]
  },
  {
   "cell_type": "code",
   "execution_count": 38,
   "metadata": {},
   "outputs": [
    {
     "name": "stdout",
     "output_type": "stream",
     "text": [
      "a小於b\n"
     ]
    }
   ],
   "source": [
    "a = 777\n",
    "b = 888\n",
    "\n",
    "if(a>b):\n",
    "    print(\"a大於b\")\n",
    "else:\n",
    "    print(\"a小於b\")"
   ]
  },
  {
   "cell_type": "markdown",
   "metadata": {},
   "source": [
    "# 進階的井字遊戲"
   ]
  },
  {
   "cell_type": "code",
   "execution_count": 47,
   "metadata": {},
   "outputs": [
    {
     "name": "stdout",
     "output_type": "stream",
     "text": [
      "   |   |  \n",
      "-----------\n",
      "   |   |  \n",
      "-----------\n",
      "   |   |  \n",
      "\n",
      "O 請輸入位置:1\n",
      "   |   |  \n",
      "-----------\n",
      "   |   |  \n",
      "-----------\n",
      " O |   |  \n",
      "\n",
      "X 請輸入位置:1\n",
      "這格已經有人下了，遊戲次數減少一次\n",
      "   |   |  \n",
      "-----------\n",
      "   |   |  \n",
      "-----------\n",
      " O |   |  \n",
      "\n",
      "O 請輸入位置:2\n",
      "   |   |  \n",
      "-----------\n",
      "   |   |  \n",
      "-----------\n",
      " O | O |  \n",
      "\n",
      "X 請輸入位置:3\n",
      "   |   |  \n",
      "-----------\n",
      "   |   |  \n",
      "-----------\n",
      " O | O | X\n",
      "\n",
      "O 請輸入位置:5\n",
      "   |   |  \n",
      "-----------\n",
      "   | O |  \n",
      "-----------\n",
      " O | O | X\n",
      "\n",
      "X 請輸入位置:9\n",
      "   |   | X\n",
      "-----------\n",
      "   | O |  \n",
      "-----------\n",
      " O | O | X\n",
      "\n",
      "O 請輸入位置:8\n",
      "   | O | X\n",
      "-----------\n",
      "   | O |  \n",
      "-----------\n",
      " O | O | X\n",
      "\n",
      "O 贏了\n",
      "遊戲結束\n"
     ]
    }
   ],
   "source": [
    "position =[\" \",\" \",\" \",\" \",\" \",\" \",\" \",\" \",\" \"] \n",
    "sign = [\"O\",\"X\"]\n",
    "\n",
    "print(\" %s | %s | %s\" %(position[0],position[1],position[2]))\n",
    "print(\"-----------\")\n",
    "print(\" %s | %s | %s\" %(position[3],position[4],position[5]))\n",
    "print(\"-----------\")\n",
    "print(\" %s | %s | %s\" %(position[6],position[7],position[8]))\n",
    "print(\"\")\n",
    "\n",
    "win = -1\n",
    "\n",
    "# 遊戲開始\n",
    "for i in range(9):\n",
    "    temp = int(input(\"%s 請輸入位置:\" %(sign[i%2])))\n",
    "    \n",
    "    # 輪到誰輸入\n",
    "    if(position[temp-1] == \" \"):\n",
    "        position[temp-1] = sign[i%2]\n",
    "    else:\n",
    "        print(\"這格已經有人下了，遊戲次數減少一次\")\n",
    "    \n",
    "    # 計分\n",
    "    a1 = position[6] + position[3] + position[0]\n",
    "    a2 = position[7] + position[4] + position[1]\n",
    "    a3 = position[8] + position[5] + position[2]\n",
    "        \n",
    "    b1 = position[6] + position[7] + position[8]\n",
    "    b2 = position[3] + position[4] + position[5]\n",
    "    b3 = position[0] + position[1] + position[2]\n",
    "        \n",
    "    c1 = position[6] + position[4] + position[5]\n",
    "    c2 = position[8] + position[4] + position[0]\n",
    "    \n",
    "    total = [a1,a2,a3,b1,b2,b3,c1,c2]\n",
    "            \n",
    "    # 顯示遊戲\n",
    "    print(\" %s | %s | %s\" %(position[6],position[7],position[8]))\n",
    "    print(\"-----------\")\n",
    "    print(\" %s | %s | %s\" %(position[3],position[4],position[5]))\n",
    "    print(\"-----------\")\n",
    "    print(\" %s | %s | %s\" %(position[0],position[1],position[2]))\n",
    "    print(\"\")\n",
    "    \n",
    "    # 判斷輸贏\n",
    "    for j in range(8):\n",
    "        if(total[j] == \"OOO\"):\n",
    "            print(\"O 贏了\")\n",
    "            win = 1\n",
    "            break\n",
    "        elif(total[j] == \"XXX\"):\n",
    "            print(\"X 贏了\")\n",
    "            win = 1\n",
    "            break\n",
    "            \n",
    "    if(win == 1):\n",
    "        break\n",
    "        \n",
    "print(\"遊戲結束\")"
   ]
  }
 ],
 "metadata": {
  "kernelspec": {
   "display_name": "Python [conda root]",
   "language": "python",
   "name": "conda-root-py"
  },
  "language_info": {
   "codemirror_mode": {
    "name": "ipython",
    "version": 3
   },
   "file_extension": ".py",
   "mimetype": "text/x-python",
   "name": "python",
   "nbconvert_exporter": "python",
   "pygments_lexer": "ipython3",
   "version": "3.6.3"
  }
 },
 "nbformat": 4,
 "nbformat_minor": 2
}
