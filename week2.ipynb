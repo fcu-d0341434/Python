{
 "cells": [
  {
   "cell_type": "markdown",
   "metadata": {},
   "source": [
    "# 指派運算子"
   ]
  },
  {
   "cell_type": "code",
   "execution_count": 29,
   "metadata": {},
   "outputs": [
    {
     "data": {
      "text/plain": [
       "1"
      ]
     },
     "execution_count": 29,
     "metadata": {},
     "output_type": "execute_result"
    }
   ],
   "source": [
    "a = 1\n",
    "a"
   ]
  },
  {
   "cell_type": "code",
   "execution_count": 11,
   "metadata": {},
   "outputs": [
    {
     "data": {
      "text/plain": [
       "3"
      ]
     },
     "execution_count": 11,
     "metadata": {},
     "output_type": "execute_result"
    }
   ],
   "source": [
    "a = 1\n",
    "a += 2\n",
    "a"
   ]
  },
  {
   "cell_type": "code",
   "execution_count": 12,
   "metadata": {},
   "outputs": [
    {
     "data": {
      "text/plain": [
       "-1"
      ]
     },
     "execution_count": 12,
     "metadata": {},
     "output_type": "execute_result"
    }
   ],
   "source": [
    "a = 1\n",
    "a -= 2\n",
    "a"
   ]
  },
  {
   "cell_type": "code",
   "execution_count": 13,
   "metadata": {},
   "outputs": [
    {
     "data": {
      "text/plain": [
       "2"
      ]
     },
     "execution_count": 13,
     "metadata": {},
     "output_type": "execute_result"
    }
   ],
   "source": [
    "a = 1\n",
    "a *= 2\n",
    "a"
   ]
  },
  {
   "cell_type": "code",
   "execution_count": 14,
   "metadata": {},
   "outputs": [
    {
     "data": {
      "text/plain": [
       "0.5"
      ]
     },
     "execution_count": 14,
     "metadata": {},
     "output_type": "execute_result"
    }
   ],
   "source": [
    "a = 1\n",
    "a /= 2\n",
    "a"
   ]
  },
  {
   "cell_type": "code",
   "execution_count": 15,
   "metadata": {},
   "outputs": [
    {
     "data": {
      "text/plain": [
       "0"
      ]
     },
     "execution_count": 15,
     "metadata": {},
     "output_type": "execute_result"
    }
   ],
   "source": [
    "a = 1\n",
    "a //= 2\n",
    "a"
   ]
  },
  {
   "cell_type": "code",
   "execution_count": 16,
   "metadata": {},
   "outputs": [
    {
     "data": {
      "text/plain": [
       "1"
      ]
     },
     "execution_count": 16,
     "metadata": {},
     "output_type": "execute_result"
    }
   ],
   "source": [
    "a = 3\n",
    "a %= 2\n",
    "a"
   ]
  },
  {
   "cell_type": "markdown",
   "metadata": {},
   "source": [
    "# while"
   ]
  },
  {
   "cell_type": "code",
   "execution_count": 8,
   "metadata": {},
   "outputs": [
    {
     "name": "stdout",
     "output_type": "stream",
     "text": [
      "8\n",
      "7\n",
      "6\n",
      "5\n",
      "4\n",
      "3\n",
      "2\n",
      "1\n",
      "0\n"
     ]
    }
   ],
   "source": [
    "a = 9\n",
    "\n",
    "while(a>0):\n",
    "    a -= 1\n",
    "    print(a)"
   ]
  },
  {
   "cell_type": "markdown",
   "metadata": {},
   "source": [
    "# 二進位"
   ]
  },
  {
   "cell_type": "code",
   "execution_count": 9,
   "metadata": {},
   "outputs": [
    {
     "name": "stdout",
     "output_type": "stream",
     "text": [
      "0b10\n",
      "0b1011\n"
     ]
    }
   ],
   "source": [
    "print(bin(2))\n",
    "print(bin(11))"
   ]
  },
  {
   "cell_type": "code",
   "execution_count": 21,
   "metadata": {},
   "outputs": [
    {
     "name": "stdout",
     "output_type": "stream",
     "text": [
      "0b1100100\n",
      "0b10000000000\n"
     ]
    }
   ],
   "source": [
    "print(bin(100))\n",
    "print(bin(1024))"
   ]
  },
  {
   "cell_type": "markdown",
   "metadata": {},
   "source": [
    "# 位元運算子"
   ]
  },
  {
   "cell_type": "markdown",
   "metadata": {},
   "source": [
    "## and"
   ]
  },
  {
   "cell_type": "code",
   "execution_count": 22,
   "metadata": {},
   "outputs": [
    {
     "name": "stdout",
     "output_type": "stream",
     "text": [
      "1\n",
      "0\n",
      "0\n",
      "0\n"
     ]
    }
   ],
   "source": [
    "print(1 & 1)\n",
    "print(1 & 0)\n",
    "print(0 & 0)\n",
    "print(0 & 1)"
   ]
  },
  {
   "cell_type": "markdown",
   "metadata": {},
   "source": [
    "## or"
   ]
  },
  {
   "cell_type": "code",
   "execution_count": 24,
   "metadata": {},
   "outputs": [
    {
     "name": "stdout",
     "output_type": "stream",
     "text": [
      "1\n",
      "1\n",
      "0\n",
      "1\n"
     ]
    }
   ],
   "source": [
    "print(1 | 1)\n",
    "print(1 | 0)\n",
    "print(0 | 0)\n",
    "print(0 | 1)"
   ]
  },
  {
   "cell_type": "markdown",
   "metadata": {},
   "source": [
    "## Xor"
   ]
  },
  {
   "cell_type": "code",
   "execution_count": 25,
   "metadata": {},
   "outputs": [
    {
     "name": "stdout",
     "output_type": "stream",
     "text": [
      "0\n",
      "1\n",
      "0\n",
      "1\n"
     ]
    }
   ],
   "source": [
    "# XOR\n",
    "print(1 ^ 1)\n",
    "print(1 ^ 0)\n",
    "print(0 ^ 0)\n",
    "print(0 ^ 1)"
   ]
  },
  {
   "cell_type": "markdown",
   "metadata": {},
   "source": [
    "#  not"
   ]
  },
  {
   "cell_type": "code",
   "execution_count": 40,
   "metadata": {},
   "outputs": [
    {
     "name": "stdout",
     "output_type": "stream",
     "text": [
      "True\n"
     ]
    }
   ],
   "source": [
    "a = 0\n",
    "print(not a)"
   ]
  },
  {
   "cell_type": "markdown",
   "metadata": {},
   "source": [
    "# 左移"
   ]
  },
  {
   "cell_type": "code",
   "execution_count": 42,
   "metadata": {},
   "outputs": [
    {
     "name": "stdout",
     "output_type": "stream",
     "text": [
      "2\n",
      "0b1\n",
      "0b10\n"
     ]
    }
   ],
   "source": [
    "a = 1\n",
    "print(a<<1)\n",
    "\n",
    "print(bin(1))\n",
    "print(bin(2))"
   ]
  },
  {
   "cell_type": "markdown",
   "metadata": {},
   "source": [
    "# 右移"
   ]
  },
  {
   "cell_type": "code",
   "execution_count": 43,
   "metadata": {},
   "outputs": [
    {
     "name": "stdout",
     "output_type": "stream",
     "text": [
      "5\n",
      "0b1010\n",
      "0b101\n"
     ]
    }
   ],
   "source": [
    "a = 10\n",
    "print(a>>1)\n",
    "\n",
    "print(bin(10))\n",
    "print(bin(5))"
   ]
  },
  {
   "cell_type": "markdown",
   "metadata": {},
   "source": [
    "# 其他指派運算子"
   ]
  },
  {
   "cell_type": "code",
   "execution_count": 44,
   "metadata": {},
   "outputs": [
    {
     "data": {
      "text/plain": [
       "1"
      ]
     },
     "execution_count": 44,
     "metadata": {},
     "output_type": "execute_result"
    }
   ],
   "source": [
    "a = 1\n",
    "a &= 1\n",
    "a"
   ]
  },
  {
   "cell_type": "code",
   "execution_count": 46,
   "metadata": {},
   "outputs": [
    {
     "data": {
      "text/plain": [
       "1"
      ]
     },
     "execution_count": 46,
     "metadata": {},
     "output_type": "execute_result"
    }
   ],
   "source": [
    "a = 1\n",
    "a ^= 0\n",
    "a"
   ]
  },
  {
   "cell_type": "code",
   "execution_count": 47,
   "metadata": {},
   "outputs": [
    {
     "data": {
      "text/plain": [
       "1"
      ]
     },
     "execution_count": 47,
     "metadata": {},
     "output_type": "execute_result"
    }
   ],
   "source": [
    "a = 1\n",
    "a |= 0\n",
    "a"
   ]
  },
  {
   "cell_type": "code",
   "execution_count": 48,
   "metadata": {},
   "outputs": [
    {
     "data": {
      "text/plain": [
       "4"
      ]
     },
     "execution_count": 48,
     "metadata": {},
     "output_type": "execute_result"
    }
   ],
   "source": [
    "a = 2\n",
    "a <<= 1\n",
    "a"
   ]
  },
  {
   "cell_type": "code",
   "execution_count": 49,
   "metadata": {},
   "outputs": [
    {
     "data": {
      "text/plain": [
       "1"
      ]
     },
     "execution_count": 49,
     "metadata": {},
     "output_type": "execute_result"
    }
   ],
   "source": [
    "a = 5\n",
    "a >>= 2\n",
    "a"
   ]
  },
  {
   "cell_type": "markdown",
   "metadata": {},
   "source": [
    "# 完整的井字遊戲"
   ]
  },
  {
   "cell_type": "code",
   "execution_count": null,
   "metadata": {},
   "outputs": [
    {
     "name": "stdout",
     "output_type": "stream",
     "text": [
      "   |   |  \n",
      "-----------\n",
      "   |   |  \n",
      "-----------\n",
      "   |   |  \n",
      "\n",
      "O 請輸入位置:1\n",
      "\n",
      "\n",
      "\n",
      "   |   |  \n",
      "-----------\n",
      "   |   |  \n",
      "-----------\n",
      " O |   |  \n",
      "\n",
      "X 請輸入位置:2\n",
      "\n",
      "\n",
      "\n",
      "   |   |  \n",
      "-----------\n",
      "   |   |  \n",
      "-----------\n",
      " O | X |  \n",
      "\n",
      "O 請輸入位置:3\n",
      "\n",
      "\n",
      "\n",
      "   |   |  \n",
      "-----------\n",
      "   |   |  \n",
      "-----------\n",
      " O | X | O\n",
      "\n",
      "X 請輸入位置:4\n",
      "\n",
      "\n",
      "\n",
      "   |   |  \n",
      "-----------\n",
      " X |   |  \n",
      "-----------\n",
      " O | X | O\n",
      "\n",
      "O 請輸入位置:5\n",
      "\n",
      "\n",
      "\n",
      "   |   |  \n",
      "-----------\n",
      " X | O |  \n",
      "-----------\n",
      " O | X | O\n",
      "\n"
     ]
    }
   ],
   "source": [
    "position =[\" \",\" \",\" \",\" \",\" \",\" \",\" \",\" \",\" \"] \n",
    "sign = [\"O\",\"X\"]\n",
    "\n",
    "print(\" %s | %s | %s\" %(position[0],position[1],position[2]))\n",
    "print(\"-----------\")\n",
    "print(\" %s | %s | %s\" %(position[3],position[4],position[5]))\n",
    "print(\"-----------\")\n",
    "print(\" %s | %s | %s\" %(position[6],position[7],position[8]))\n",
    "print()\n",
    "\n",
    "win = 1\n",
    "i = 0\n",
    "\n",
    "# 遊戲開始\n",
    "while(win):\n",
    "    \n",
    "    temp = int(input(\"%s 請輸入位置:\" %(sign[i%2])))\n",
    "    \n",
    "    if(temp>9 or temp<0):\n",
    "        print(\"只能輸入0-9的數字!!\")\n",
    "        continue\n",
    "    \n",
    "    # 輪到誰輸入\n",
    "    if(position[temp-1] == \" \"):\n",
    "        position[temp-1] = sign[i%2]\n",
    "    else:\n",
    "        print(\"這格已經有人下了\")\n",
    "        continue\n",
    "    print(\"\\n\\n\")\n",
    "    \n",
    "    # 計分\n",
    "    a1 = position[6] + position[3] + position[0]\n",
    "    a2 = position[7] + position[4] + position[1]\n",
    "    a3 = position[8] + position[5] + position[2]\n",
    "        \n",
    "    b1 = position[6] + position[7] + position[8]\n",
    "    b2 = position[3] + position[4] + position[5]\n",
    "    b3 = position[0] + position[1] + position[2]\n",
    "        \n",
    "    c1 = position[6] + position[4] + position[5]\n",
    "    c2 = position[8] + position[4] + position[0]\n",
    "    \n",
    "    total = [a1,a2,a3,b1,b2,b3,c1,c2]\n",
    "    i = i + 1\n",
    "    \n",
    "    # 顯示遊戲\n",
    "    print(\" %s | %s | %s\" %(position[6],position[7],position[8]))\n",
    "    print(\"-----------\")\n",
    "    print(\" %s | %s | %s\" %(position[3],position[4],position[5]))\n",
    "    print(\"-----------\")\n",
    "    print(\" %s | %s | %s\" %(position[0],position[1],position[2]))\n",
    "    print()\n",
    "    \n",
    "    # 判斷輸贏\n",
    "    for j in range(8):\n",
    "        if(total[j] == \"OOO\"):\n",
    "            print(\"O 贏了\")\n",
    "            win = 0\n",
    "        elif(total[j] == \"XXX\"):\n",
    "            print(\"X 贏了\")\n",
    "            win = 0\n",
    "    # 如果平手\n",
    "    if(i==9 and win!=0):\n",
    "        print(\"平手\")\n",
    "        win = 0\n",
    " \n",
    "        \n",
    "print(\"遊戲結束\")"
   ]
  },
  {
   "cell_type": "code",
   "execution_count": null,
   "metadata": {},
   "outputs": [],
   "source": []
  },
  {
   "cell_type": "code",
   "execution_count": null,
   "metadata": {},
   "outputs": [],
   "source": []
  },
  {
   "cell_type": "code",
   "execution_count": null,
   "metadata": {
    "collapsed": true
   },
   "outputs": [],
   "source": []
  }
 ],
 "metadata": {
  "kernelspec": {
   "display_name": "Python [conda root]",
   "language": "python",
   "name": "conda-root-py"
  },
  "language_info": {
   "codemirror_mode": {
    "name": "ipython",
    "version": 3
   },
   "file_extension": ".py",
   "mimetype": "text/x-python",
   "name": "python",
   "nbconvert_exporter": "python",
   "pygments_lexer": "ipython3",
   "version": "3.6.3"
  }
 },
 "nbformat": 4,
 "nbformat_minor": 2
}
